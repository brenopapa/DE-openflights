{
  "nbformat": 4,
  "nbformat_minor": 0,
  "metadata": {
    "colab": {
      "provenance": [],
      "include_colab_link": true
    },
    "kernelspec": {
      "name": "python3",
      "display_name": "Python 3"
    },
    "language_info": {
      "name": "python"
    }
  },
  "cells": [
    {
      "cell_type": "markdown",
      "metadata": {
        "id": "view-in-github",
        "colab_type": "text"
      },
      "source": [
        "<a href=\"https://colab.research.google.com/github/brenopapa/DE-openflights/blob/main/DeleteEmptyUserGroups.ipynb\" target=\"_parent\"><img src=\"https://colab.research.google.com/assets/colab-badge.svg\" alt=\"Open In Colab\"/></a>"
      ]
    },
    {
      "cell_type": "markdown",
      "source": [
        "## Delete Empty User Group"
      ],
      "metadata": {
        "id": "Mkl0MagMuVOc"
      }
    },
    {
      "cell_type": "markdown",
      "source": [
        "### REQUIREMENTS"
      ],
      "metadata": {
        "id": "wKuBHjNWTWda"
      }
    },
    {
      "cell_type": "code",
      "source": [
        "%%capture\n",
        "!pip install --quiet pycarol[dataframe]\n",
        "!pip install --quiet pyarrow\n",
        "!pip install --quiet python-dotenv\n",
        "!pip install --quiet curlify\n",
        "!pip install --quiet git+https://github.com/jnefoussi/pytechfin.git"
      ],
      "metadata": {
        "id": "kc2_j3XSTYx5"
      },
      "execution_count": 6,
      "outputs": []
    },
    {
      "cell_type": "code",
      "source": [
        "import json, os\n",
        "from google.colab import files\n",
        "from pycarol import Carol, ApiKeyAuth, PwdAuth, Staging, DataModel\n",
        "from pycarol import Storage, Connectors\n",
        "import pandas as pd\n",
        "import numpy as np\n",
        "from pycarol.utils.miscellaneous import drop_duplicated_parquet"
      ],
      "metadata": {
        "id": "rGZtnM5KZzwL"
      },
      "execution_count": 7,
      "outputs": []
    },
    {
      "cell_type": "markdown",
      "source": [
        "### FUNÇÕES\n"
      ],
      "metadata": {
        "id": "AfenYb6CVB1s"
      }
    },
    {
      "cell_type": "code",
      "source": [
        "\n",
        "def list_groups(login, params):\n",
        "  return login.call_api(\n",
        "          \"v3/userGroup\",\n",
        "          method=\"GET\",\n",
        "          content_type=\"application/x-www-form-urlencoded\",\n",
        "          params=params)\n",
        "\n",
        "def list_users(login, mdmGroupId):\n",
        "  query_params_users = {\"pageSize\": 0}\n",
        "  body = {\"mustList\":[{\"mdmFilterType\":\"TYPE_FILTER\",\"mdmValue\":\"mdmTenantUser\"},{\"mdmFilterType\":\"TERM_FILTER\",\"mdmKey\":\"mdmUserGroupsIds\",\"mdmValue\":mdmGroupId}]}\n",
        "  return login.call_api(\n",
        "      \"v1/users/filterUsers\",\n",
        "      method=\"POST\",\n",
        "      content_type=\"application/json\",\n",
        "      params=query_params,\n",
        "      data=body\n",
        "  )\n",
        "\n",
        "def delete_group(mdmGroupId):\n",
        "    return login.call_api(\n",
        "          \"v3/userGroup/\"+mdmGroupId,\n",
        "          method=\"DELETE\",\n",
        "          content_type=\"application/json\")"
      ],
      "metadata": {
        "id": "BUJ-Hp1VeoMK"
      },
      "execution_count": 8,
      "outputs": []
    },
    {
      "cell_type": "markdown",
      "source": [
        "### CREDENCIAIS (INSERIR ARQUIVO VALIDO LOCALMENTE) E CONFIGURAÇÕES\n"
      ],
      "metadata": {
        "id": "ME6scchETuoa"
      }
    },
    {
      "cell_type": "code",
      "source": [
        "credentialFile = files.upload()\n",
        "credentialFile = json.loads(credentialFile[\"carol.json\"].decode(\"utf-8\"))\n",
        "\n",
        "# Exemplo de arquivo válido:\n",
        "# {\"login\": \"myuser@totvs.com.br\", \"password\": \"mypwd\", \"connectorId\": \"myconnectorid\", \"subdomain\": \"mytenant\"}\n",
        "\n",
        "pd.set_option('display.max_rows', 500)\n",
        "pd.set_option('display.max_columns', 500)\n",
        "pd.set_option('display.min_rows', 100)\n",
        "\n",
        "org = 'myorganization'\n",
        "tenant = 'mytenant'"
      ],
      "metadata": {
        "id": "eYY9t2v2T0LT",
        "colab": {
          "base_uri": "https://localhost:8080/",
          "height": 73
        },
        "outputId": "7db296cf-777c-467c-88b0-dc377ebab9e5"
      },
      "execution_count": 14,
      "outputs": [
        {
          "output_type": "display_data",
          "data": {
            "text/plain": [
              "<IPython.core.display.HTML object>"
            ],
            "text/html": [
              "\n",
              "     <input type=\"file\" id=\"files-9d639106-3a46-4815-8b26-d860e0e116ba\" name=\"files[]\" multiple disabled\n",
              "        style=\"border:none\" />\n",
              "     <output id=\"result-9d639106-3a46-4815-8b26-d860e0e116ba\">\n",
              "      Upload widget is only available when the cell has been executed in the\n",
              "      current browser session. Please rerun this cell to enable.\n",
              "      </output>\n",
              "      <script>// Copyright 2017 Google LLC\n",
              "//\n",
              "// Licensed under the Apache License, Version 2.0 (the \"License\");\n",
              "// you may not use this file except in compliance with the License.\n",
              "// You may obtain a copy of the License at\n",
              "//\n",
              "//      http://www.apache.org/licenses/LICENSE-2.0\n",
              "//\n",
              "// Unless required by applicable law or agreed to in writing, software\n",
              "// distributed under the License is distributed on an \"AS IS\" BASIS,\n",
              "// WITHOUT WARRANTIES OR CONDITIONS OF ANY KIND, either express or implied.\n",
              "// See the License for the specific language governing permissions and\n",
              "// limitations under the License.\n",
              "\n",
              "/**\n",
              " * @fileoverview Helpers for google.colab Python module.\n",
              " */\n",
              "(function(scope) {\n",
              "function span(text, styleAttributes = {}) {\n",
              "  const element = document.createElement('span');\n",
              "  element.textContent = text;\n",
              "  for (const key of Object.keys(styleAttributes)) {\n",
              "    element.style[key] = styleAttributes[key];\n",
              "  }\n",
              "  return element;\n",
              "}\n",
              "\n",
              "// Max number of bytes which will be uploaded at a time.\n",
              "const MAX_PAYLOAD_SIZE = 100 * 1024;\n",
              "\n",
              "function _uploadFiles(inputId, outputId) {\n",
              "  const steps = uploadFilesStep(inputId, outputId);\n",
              "  const outputElement = document.getElementById(outputId);\n",
              "  // Cache steps on the outputElement to make it available for the next call\n",
              "  // to uploadFilesContinue from Python.\n",
              "  outputElement.steps = steps;\n",
              "\n",
              "  return _uploadFilesContinue(outputId);\n",
              "}\n",
              "\n",
              "// This is roughly an async generator (not supported in the browser yet),\n",
              "// where there are multiple asynchronous steps and the Python side is going\n",
              "// to poll for completion of each step.\n",
              "// This uses a Promise to block the python side on completion of each step,\n",
              "// then passes the result of the previous step as the input to the next step.\n",
              "function _uploadFilesContinue(outputId) {\n",
              "  const outputElement = document.getElementById(outputId);\n",
              "  const steps = outputElement.steps;\n",
              "\n",
              "  const next = steps.next(outputElement.lastPromiseValue);\n",
              "  return Promise.resolve(next.value.promise).then((value) => {\n",
              "    // Cache the last promise value to make it available to the next\n",
              "    // step of the generator.\n",
              "    outputElement.lastPromiseValue = value;\n",
              "    return next.value.response;\n",
              "  });\n",
              "}\n",
              "\n",
              "/**\n",
              " * Generator function which is called between each async step of the upload\n",
              " * process.\n",
              " * @param {string} inputId Element ID of the input file picker element.\n",
              " * @param {string} outputId Element ID of the output display.\n",
              " * @return {!Iterable<!Object>} Iterable of next steps.\n",
              " */\n",
              "function* uploadFilesStep(inputId, outputId) {\n",
              "  const inputElement = document.getElementById(inputId);\n",
              "  inputElement.disabled = false;\n",
              "\n",
              "  const outputElement = document.getElementById(outputId);\n",
              "  outputElement.innerHTML = '';\n",
              "\n",
              "  const pickedPromise = new Promise((resolve) => {\n",
              "    inputElement.addEventListener('change', (e) => {\n",
              "      resolve(e.target.files);\n",
              "    });\n",
              "  });\n",
              "\n",
              "  const cancel = document.createElement('button');\n",
              "  inputElement.parentElement.appendChild(cancel);\n",
              "  cancel.textContent = 'Cancel upload';\n",
              "  const cancelPromise = new Promise((resolve) => {\n",
              "    cancel.onclick = () => {\n",
              "      resolve(null);\n",
              "    };\n",
              "  });\n",
              "\n",
              "  // Wait for the user to pick the files.\n",
              "  const files = yield {\n",
              "    promise: Promise.race([pickedPromise, cancelPromise]),\n",
              "    response: {\n",
              "      action: 'starting',\n",
              "    }\n",
              "  };\n",
              "\n",
              "  cancel.remove();\n",
              "\n",
              "  // Disable the input element since further picks are not allowed.\n",
              "  inputElement.disabled = true;\n",
              "\n",
              "  if (!files) {\n",
              "    return {\n",
              "      response: {\n",
              "        action: 'complete',\n",
              "      }\n",
              "    };\n",
              "  }\n",
              "\n",
              "  for (const file of files) {\n",
              "    const li = document.createElement('li');\n",
              "    li.append(span(file.name, {fontWeight: 'bold'}));\n",
              "    li.append(span(\n",
              "        `(${file.type || 'n/a'}) - ${file.size} bytes, ` +\n",
              "        `last modified: ${\n",
              "            file.lastModifiedDate ? file.lastModifiedDate.toLocaleDateString() :\n",
              "                                    'n/a'} - `));\n",
              "    const percent = span('0% done');\n",
              "    li.appendChild(percent);\n",
              "\n",
              "    outputElement.appendChild(li);\n",
              "\n",
              "    const fileDataPromise = new Promise((resolve) => {\n",
              "      const reader = new FileReader();\n",
              "      reader.onload = (e) => {\n",
              "        resolve(e.target.result);\n",
              "      };\n",
              "      reader.readAsArrayBuffer(file);\n",
              "    });\n",
              "    // Wait for the data to be ready.\n",
              "    let fileData = yield {\n",
              "      promise: fileDataPromise,\n",
              "      response: {\n",
              "        action: 'continue',\n",
              "      }\n",
              "    };\n",
              "\n",
              "    // Use a chunked sending to avoid message size limits. See b/62115660.\n",
              "    let position = 0;\n",
              "    do {\n",
              "      const length = Math.min(fileData.byteLength - position, MAX_PAYLOAD_SIZE);\n",
              "      const chunk = new Uint8Array(fileData, position, length);\n",
              "      position += length;\n",
              "\n",
              "      const base64 = btoa(String.fromCharCode.apply(null, chunk));\n",
              "      yield {\n",
              "        response: {\n",
              "          action: 'append',\n",
              "          file: file.name,\n",
              "          data: base64,\n",
              "        },\n",
              "      };\n",
              "\n",
              "      let percentDone = fileData.byteLength === 0 ?\n",
              "          100 :\n",
              "          Math.round((position / fileData.byteLength) * 100);\n",
              "      percent.textContent = `${percentDone}% done`;\n",
              "\n",
              "    } while (position < fileData.byteLength);\n",
              "  }\n",
              "\n",
              "  // All done.\n",
              "  yield {\n",
              "    response: {\n",
              "      action: 'complete',\n",
              "    }\n",
              "  };\n",
              "}\n",
              "\n",
              "scope.google = scope.google || {};\n",
              "scope.google.colab = scope.google.colab || {};\n",
              "scope.google.colab._files = {\n",
              "  _uploadFiles,\n",
              "  _uploadFilesContinue,\n",
              "};\n",
              "})(self);\n",
              "</script> "
            ]
          },
          "metadata": {}
        },
        {
          "output_type": "stream",
          "name": "stdout",
          "text": [
            "Saving carol.json to carol (2).json\n"
          ]
        }
      ]
    },
    {
      "cell_type": "code",
      "source": [
        "carol_app = 'carolapp'\n",
        "credentials = PwdAuth(credentialFile[\"login\"], credentialFile[\"password\"])\n",
        "\n",
        "login = Carol(tenant, carol_app, auth=credentials, organization=org )\n",
        "os.environ.update(credentialFile)"
      ],
      "metadata": {
        "id": "9WrOdSE8ZuhI"
      },
      "execution_count": 15,
      "outputs": []
    },
    {
      "cell_type": "markdown",
      "source": [
        "### DELETANDO GRUPOS DE USUÁRIOS VAZIOS"
      ],
      "metadata": {
        "id": "Wkc_XVdTwAqK"
      }
    },
    {
      "cell_type": "code",
      "source": [
        "\n",
        "keep = []\n",
        "remove = []\n",
        "next_query = True\n",
        "counter = -1\n",
        "offset = 0\n",
        "pageSize = 500\n",
        "query_params = {\"offset\": offset, \"pageSize\": pageSize}\n",
        "\n",
        "\n",
        "# Guardando os grupos sem usuários que serão removidos\n",
        "while(next_query):\n",
        "  # Consulta de grupos\n",
        "  resp = list_groups(login,query_params)\n",
        "  if (resp['hits'] and len(resp['hits']) > 0 ):\n",
        "    for group in resp['hits'] :\n",
        "      # Consulta usuários\n",
        "      resp_users = list_users(login,group['mdmId'])\n",
        "      if resp_users['totalHits'] == 0:\n",
        "        # Grupo sem usuário\n",
        "        remove.append(group)\n",
        "      else:\n",
        "        keep.append(group)\n",
        "  # Atualização do contador\n",
        "  if(counter == -1):\n",
        "    counter = resp['count']\n",
        "  else:\n",
        "    counter = counter + resp['count']\n",
        "  # Atualizando a condição de parada e indice de busca na paginação\n",
        "  total_hits = resp['totalHits']\n",
        "  if(total_hits and total_hits > 0):\n",
        "    if(total_hits == counter):\n",
        "      next_query = False  \n",
        "    else:\n",
        "      offset = counter\n",
        "      query_params = {\"offset\": offset, \"pageSize\": pageSize}\n",
        "  else:\n",
        "    next_query = False\n",
        " "
      ],
      "metadata": {
        "id": "TjjqACQUaPIC"
      },
      "execution_count": 16,
      "outputs": []
    },
    {
      "cell_type": "code",
      "source": [
        "#Remoção de grupos\n",
        "for group in remove:\n",
        "  try:\n",
        "    result = delete_group(group['mdmId'])\n",
        "    #  print(result)\n",
        "    if result['success']:\n",
        "      print('Grupo '+ group['mdmName'] + ' removido com sucesso.')\n",
        "  except:\n",
        "    print('ERRO ao remover grupo '+ group['mdmName'] )\n"
      ],
      "metadata": {
        "id": "4ptrIIBaFBow"
      },
      "execution_count": 17,
      "outputs": []
    }
  ]
}