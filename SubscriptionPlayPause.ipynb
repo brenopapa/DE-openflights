{
  "nbformat": 4,
  "nbformat_minor": 0,
  "metadata": {
    "colab": {
      "provenance": [],
      "authorship_tag": "ABX9TyOo02A+A3/bmt9LtZ9QgbQd",
      "include_colab_link": true
    },
    "kernelspec": {
      "name": "python3",
      "display_name": "Python 3"
    },
    "language_info": {
      "name": "python"
    }
  },
  "cells": [
    {
      "cell_type": "markdown",
      "metadata": {
        "id": "view-in-github",
        "colab_type": "text"
      },
      "source": [
        "<a href=\"https://colab.research.google.com/github/brenopapa/DE-openflights/blob/main/SubscriptionPlayPause.ipynb\" target=\"_parent\"><img src=\"https://colab.research.google.com/assets/colab-badge.svg\" alt=\"Open In Colab\"/></a>"
      ]
    },
    {
      "cell_type": "markdown",
      "source": [
        "## PLAY SUBSCRIPTION"
      ],
      "metadata": {
        "id": "G25o7lt-_rhC"
      }
    },
    {
      "cell_type": "markdown",
      "source": [
        "### REQUIREMENTS"
      ],
      "metadata": {
        "id": "D8zwHK0s_5LK"
      }
    },
    {
      "cell_type": "code",
      "source": [
        "import json, requests\n",
        "from google.colab import files\n"
      ],
      "metadata": {
        "id": "LXrPC-vo_r4Z"
      },
      "execution_count": 6,
      "outputs": []
    },
    {
      "cell_type": "markdown",
      "source": [
        "### FUNCOES CAROL"
      ],
      "metadata": {
        "id": "Rh_DWAcD_7Ki"
      }
    },
    {
      "cell_type": "code",
      "source": [
        "def carol_login(carol): \n",
        "\n",
        "    login = requests.post('https://api.carol.ai/api/v1/oauth2/token',\n",
        "        headers = { \"accept\": \"application/json\", \"Content-Type\": \"application/x-www-form-urlencoded\" },\n",
        "        data = {\"grant_type\": \"password\", **carol})\n",
        "\n",
        "    return json.loads(login.text)['access_token']\n",
        "\n",
        "def carol_play_subscription(subscriptionId, access_token):\n",
        "    sub = requests.post(f'https://totvstechfindev.carol.ai/api/v3/subscription/{subscriptionId}/play'\n",
        "    ,headers = { \"Authorization\": access_token, \"accept\": \"application/json\", })\n",
        "    \n",
        "    return (json.loads(sub.text))\n",
        "\n",
        "def carol_pause_subscription(subscriptionId, access_token):\n",
        "    sub = requests.post(f'https://totvstechfindev.carol.ai/api/v3/subscription/{subscriptionId}/pause'\n",
        "    ,headers = { \"Authorization\": access_token, \"accept\": \"application/json\", })\n",
        "    \n",
        "    return (json.loads(sub.text))"
      ],
      "metadata": {
        "id": "SiQqm4qs_tFJ"
      },
      "execution_count": 10,
      "outputs": []
    },
    {
      "cell_type": "markdown",
      "source": [
        "### LOGIN"
      ],
      "metadata": {
        "id": "sh13s8gPAAEi"
      }
    },
    {
      "cell_type": "code",
      "source": [
        "credentialFile = files.upload()\n",
        "credentialFile = json.loads(credentialFile[\"carol.json\"].decode(\"utf-8\"))\n",
        "\n",
        "# Exemplo de arquivo válido:\n",
        "# {\"login\": \"myuser@totvs.com.br\", \"password\": \"mypwd\", \"connectorId\": \"myconnectorid\", \"subdomain\": \"mytenant\"}\n",
        "\n",
        "org = 'myorganization'\n",
        "tenant = 'mytenant'\n",
        "\n",
        "carol = {\n",
        "\"connectorId\": \"edee73a283894aa7a75bd724ac148ac3\",\n",
        "\"username\": credentialFile['username'],\n",
        "\"password\": credentialFile['password'],\n",
        "\"subdomain\": 'tenant65b2916061ad11ebabee0a586461446f',\n",
        "}\n",
        "access_token = carol_login(carol)\n",
        "print(access_token)"
      ],
      "metadata": {
        "id": "8qI1-UU_AA8y"
      },
      "execution_count": null,
      "outputs": []
    },
    {
      "cell_type": "code",
      "source": [
        "subscriptions_to_pause = [\n",
        "'subscriptionId',\n",
        "'subscriptionId',\n",
        "'subscriptionId',\n",
        "]\n",
        "\n",
        "subscriptions_to_play = [\n",
        "'subscriptionId',\n",
        "'subscriptionId',\n",
        "'subscriptionId',\n",
        "]"
      ],
      "metadata": {
        "id": "rH1ALqyoAOMa"
      },
      "execution_count": 8,
      "outputs": []
    },
    {
      "cell_type": "code",
      "source": [
        "for sub in subscriptions_to_pause:\n",
        "    \n",
        "    task = carol_pause_subscription(sub, access_token)\n",
        "    print(carol[\"subdomain\"] + ' - '+ str(task))\n",
        "\n",
        "for sub in subscriptions_to_play:\n",
        "    \n",
        "    task = carol_play_subscription(sub, access_token)\n",
        "    print(carol[\"subdomain\"] + ' - '+ str(task))"
      ],
      "metadata": {
        "colab": {
          "base_uri": "https://localhost:8080/",
          "height": 218
        },
        "id": "Cg4-dVF6AWly",
        "outputId": "29a4becb-d63d-43ac-edf5-a0197c66f4ba"
      },
      "execution_count": 9,
      "outputs": [
        {
          "output_type": "error",
          "ename": "NameError",
          "evalue": "ignored",
          "traceback": [
            "\u001b[0;31m---------------------------------------------------------------------------\u001b[0m",
            "\u001b[0;31mNameError\u001b[0m                                 Traceback (most recent call last)",
            "\u001b[0;32m<ipython-input-9-67798bf3e10f>\u001b[0m in \u001b[0;36m<module>\u001b[0;34m\u001b[0m\n\u001b[1;32m      1\u001b[0m \u001b[0;32mfor\u001b[0m \u001b[0msub\u001b[0m \u001b[0;32min\u001b[0m \u001b[0msub_list\u001b[0m\u001b[0;34m:\u001b[0m\u001b[0;34m\u001b[0m\u001b[0;34m\u001b[0m\u001b[0m\n\u001b[1;32m      2\u001b[0m \u001b[0;34m\u001b[0m\u001b[0m\n\u001b[0;32m----> 3\u001b[0;31m     \u001b[0mtask\u001b[0m \u001b[0;34m=\u001b[0m \u001b[0mcarol_play_subs\u001b[0m\u001b[0;34m(\u001b[0m\u001b[0msub\u001b[0m\u001b[0;34m,\u001b[0m \u001b[0maccess_token\u001b[0m\u001b[0;34m)\u001b[0m\u001b[0;34m\u001b[0m\u001b[0;34m\u001b[0m\u001b[0m\n\u001b[0m\u001b[1;32m      4\u001b[0m     \u001b[0mprint\u001b[0m\u001b[0;34m(\u001b[0m\u001b[0mcarol\u001b[0m\u001b[0;34m[\u001b[0m\u001b[0;34m\"subdomain\"\u001b[0m\u001b[0;34m]\u001b[0m \u001b[0;34m+\u001b[0m \u001b[0;34m' - '\u001b[0m\u001b[0;34m+\u001b[0m \u001b[0mstr\u001b[0m\u001b[0;34m(\u001b[0m\u001b[0mtask\u001b[0m\u001b[0;34m)\u001b[0m\u001b[0;34m)\u001b[0m\u001b[0;34m\u001b[0m\u001b[0;34m\u001b[0m\u001b[0m\n",
            "\u001b[0;31mNameError\u001b[0m: name 'access_token' is not defined"
          ]
        }
      ]
    },
    {
      "cell_type": "code",
      "source": [],
      "metadata": {
        "id": "9bcR2RpCAX11"
      },
      "execution_count": null,
      "outputs": []
    }
  ]
}